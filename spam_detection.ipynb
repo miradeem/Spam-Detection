import os
import numpy as np
import pandas as pd
import matplotlib.pyplot as plt

from sklearn.feature_extraction.text import CountVectorizer
from sklearn.feature_extraction.text import TfidfTransformer
from sklearn.metrics import accuracy_score, classification_report,ConfusionMatrixDisplay
from sklearn.model_selection import train_test_split
from sklearn.preprocessing import StandardScaler
from sklearn.naive_bayes import MultinomialNB
from sklearn.svm import LinearSVC
from sklearn.tree import DecisionTreeClassifier, plot_tree

# Downloading Dataset into Colab Enviroment
!curl "https://raw.githubusercontent.com/RebuniTech/Sms_SPam-detection/main/sms_dataset.tsv" --output sms_dataset.tsv

df = pd.read_csv('sms_dataset.tsv', sep='\t')
print("Total Dataset:", len(df))

df.isna().sum()

#plt.figure(, dpi=75)
df.label.value_counts().plot(kind='pie', figsize=(10, 7))
plt.title('Value Counts')
plt.xlabel('')
plt.ylabel('')
plt.show()

X = df.message # X_feature
y = df.label # y_label

X_train, X_test, y_train, y_test = train_test_split(X, y, test_size=0.3, random_state=42)

count_vectorizer = CountVectorizer()
tfidf_transformer = TfidfTransformer()

count_vectorizer.fit(X_train)
X_train_cv = count_vectorizer.transform(X_train)
tfidf_transformer.fit(X_train_cv)
X_train_tfidf = tfidf_transformer.transform(X_train_cv)

X_test_cv = count_vectorizer.transform(X_test)
X_test_tfidf = tfidf_transformer.transform(X_test_cv)

#NAIVE BAYES:
naiv_bayes = MultinomialNB()
naiv_bayes.fit(X_train_tfidf, y_train)

prediction = naiv_bayes.predict(X_test_tfidf)
ConfusionMatrixDisplay.from_estimator(naiv_bayes, X_test_tfidf, y_test)
plt.show()

print(classification_report(y_test, prediction))

#DECISION TREE:
dt_cls = DecisionTreeClassifier()
dt_cls.fit(X_train_tfidf, y_train)
prediction = dt_cls.predict(X_test_tfidf)
ConfusionMatrixDisplay.from_estimator(dt_cls, X_test_tfidf, y_test)
plt.show()

print(classification_report(y_test, prediction))

#Linear SVM:
lsvc = LinearSVC()
svc = lsvc.fit(X_train_tfidf, y_train)
prediction = lsvc.predict(X_test_tfidf)
ConfusionMatrixDisplay.from_estimator(lsvc, X_test_tfidf, y_test)
plt.show()

print(classification_report(y_test, prediction))

print("Accurancy: ", accuracy_score(y_test, prediction))
